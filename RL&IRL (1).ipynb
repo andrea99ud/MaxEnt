{
 "cells": [
  {
   "cell_type": "markdown",
   "id": "52f87c73",
   "metadata": {},
   "source": [
    "# Imports"
   ]
  },
  {
   "cell_type": "code",
   "execution_count": 1,
   "id": "4b980d21",
   "metadata": {},
   "outputs": [],
   "source": [
    "import numpy as np\n",
    "import gymnasium as gym\n",
    "import random\n",
    "import time\n",
    "from IPython.display import clear_output\n",
    "import matplotlib.pyplot as plt\n",
    "from tqdm import tqdm\n",
    "import seaborn as sns\n",
    "from mdptoolbox import mdp\n",
    "from scipy.optimize import linprog\n",
    "from itertools import product   \n",
    "import matplotlib as mpl"
   ]
  },
  {
   "cell_type": "markdown",
   "id": "4fbbeb09",
   "metadata": {},
   "source": [
    "The environment has a 4x4 grid, with a total of 16 states. There are four possible actions: move left, move down, move right, or move up. "
   ]
  },
  {
   "cell_type": "code",
   "execution_count": 2,
   "id": "7c1edf44",
   "metadata": {},
   "outputs": [],
   "source": [
    "slippery=True"
   ]
  },
  {
   "cell_type": "code",
   "execution_count": 3,
   "id": "af3619c5",
   "metadata": {},
   "outputs": [],
   "source": [
    "env = gym.make(\"FrozenLake-v1\", map_name = \"4x4\", is_slippery=slippery)"
   ]
  },
  {
   "cell_type": "code",
   "execution_count": 4,
   "id": "c17a41f0",
   "metadata": {},
   "outputs": [
    {
     "name": "stdout",
     "output_type": "stream",
     "text": [
      "Number of states: 16\n",
      "Number of actions: 4\n"
     ]
    }
   ],
   "source": [
    "print(\"Number of states:\", env.observation_space.n)\n",
    "print(\"Number of actions:\", env.action_space.n)"
   ]
  },
  {
   "cell_type": "markdown",
   "id": "9b5cd4d7",
   "metadata": {},
   "source": [
    "# Initialize the Q-table:\n",
    "\n",
    "Create a Q-table with dimensions equal to the number of states and actions. Initialize the table with zeros:"
   ]
  },
  {
   "cell_type": "code",
   "execution_count": 5,
   "id": "4f43b536",
   "metadata": {},
   "outputs": [],
   "source": [
    "q_table = np.zeros((env.observation_space.n, env.action_space.n))"
   ]
  },
  {
   "cell_type": "markdown",
   "id": "febec990",
   "metadata": {},
   "source": [
    "# Hyperparameters"
   ]
  },
  {
   "cell_type": "code",
   "execution_count": 6,
   "id": "91006f10",
   "metadata": {},
   "outputs": [],
   "source": [
    "total_episodes = 200000\n",
    "learning_rate = 0.05\n",
    "max_steps = 100\n",
    "gamma = 0.99\n",
    "exploration_rate = 1\n",
    "max_exploration_rate = 1\n",
    "min_exploration_rate = 0.01\n",
    "exploration_decay_rate = 0.00005"
   ]
  },
  {
   "cell_type": "markdown",
   "id": "8499e05d",
   "metadata": {},
   "source": [
    "# Q-learning"
   ]
  },
  {
   "cell_type": "code",
   "execution_count": 7,
   "id": "505d26fd",
   "metadata": {},
   "outputs": [
    {
     "name": "stderr",
     "output_type": "stream",
     "text": [
      "100%|██████████| 200000/200000 [01:35<00:00, 2097.96it/s]"
     ]
    },
    {
     "name": "stdout",
     "output_type": "stream",
     "text": [
      "Q-table:\n",
      "[[0.55263532 0.50649613 0.50523681 0.50569326]\n",
      " [0.29660964 0.35175457 0.34317249 0.49903797]\n",
      " [0.42039211 0.42387221 0.41720776 0.46295333]\n",
      " [0.32221685 0.27919144 0.30427559 0.44810524]\n",
      " [0.56787591 0.42530093 0.34738455 0.35905931]\n",
      " [0.         0.         0.         0.        ]\n",
      " [0.23984841 0.16088385 0.37644947 0.21347115]\n",
      " [0.         0.         0.         0.        ]\n",
      " [0.35816089 0.35016442 0.32749142 0.62024819]\n",
      " [0.46833035 0.68019506 0.46425814 0.43072886]\n",
      " [0.63701978 0.45661055 0.45463952 0.29763121]\n",
      " [0.         0.         0.         0.        ]\n",
      " [0.         0.         0.         0.        ]\n",
      " [0.57360259 0.42503044 0.83158493 0.52724735]\n",
      " [0.73849179 0.92202668 0.79307829 0.78885498]\n",
      " [0.         0.         0.         0.        ]]\n"
     ]
    },
    {
     "name": "stderr",
     "output_type": "stream",
     "text": [
      "\n"
     ]
    }
   ],
   "source": [
    "rewards_all_episodes = []\n",
    "\n",
    "for episode in tqdm(range(total_episodes)):\n",
    "    state = env.reset()[0]\n",
    "    done = False\n",
    "    rewards_current_episode = 0\n",
    "\n",
    "    for step in range(max_steps):\n",
    "        exploration_threshold = random.uniform(0, 1)\n",
    "        if exploration_threshold > exploration_rate:\n",
    "            action = np.argmax(q_table[state, :])\n",
    "        else:\n",
    "            action = env.action_space.sample()\n",
    "        new_state, reward, done, info, prob = env.step(action)\n",
    "\n",
    "        q_table[state, action] = q_table[state, action] * (1 - learning_rate) + \\\n",
    "            learning_rate * (reward + gamma * np.max(q_table[new_state, :]))\n",
    "        state = new_state\n",
    "        rewards_current_episode += reward\n",
    "        if done:\n",
    "            break\n",
    "    exploration_rate = min_exploration_rate + \\\n",
    "        (max_exploration_rate - min_exploration_rate) * np.exp(-exploration_decay_rate * episode)\n",
    "    rewards_all_episodes.append(rewards_current_episode)\n",
    "\n",
    "print(\"Q-table:\")\n",
    "print(q_table)\n"
   ]
  },
  {
   "cell_type": "code",
   "execution_count": 8,
   "id": "d8223b10",
   "metadata": {},
   "outputs": [],
   "source": [
    "def plot_policy(policy):\n",
    "    reshaped_policy = policy.reshape(4,4)\n",
    "    plt.imshow([[0,0,0,0],[0,1,0,1],[0,0,0,1],[1,0,0,-1] ], cmap=mpl.colormaps[\"Pastel1\"], interpolation='nearest')\n",
    "\n",
    "    #left arrow if action is 0\n",
    "    for i in range(4):\n",
    "        for j in range(4):\n",
    "            if reshaped_policy[i][j] == 0:\n",
    "                plt.annotate('', xy=(j,i), xytext=(j+0.3,i), arrowprops=dict(facecolor='black', width=0.5, headwidth=5))\n",
    "    #down arrow if action is 1\n",
    "    for i in range(4):\n",
    "        for j in range(4):\n",
    "            if reshaped_policy[i][j] == 1:\n",
    "                plt.annotate('', xy=(j,i), xytext=(j,i-0.3), arrowprops=dict(facecolor='black', width=0.5, headwidth=5))\n",
    "    #right arrow if action is 2\n",
    "    for i in range(4):\n",
    "        for j in range(4):\n",
    "            if reshaped_policy[i][j] == 2:\n",
    "                plt.annotate('', xy=(j,i), xytext=(j-0.3,i), arrowprops=dict(facecolor='black', width=0.5, headwidth=5))\n",
    "    #up arrow if action is 3\n",
    "    for i in range(4):\n",
    "        for j in range(4):\n",
    "            if reshaped_policy[i][j] == 3:\n",
    "                plt.annotate('', xy=(j,i), xytext=(j,i+0.3), arrowprops=dict(facecolor='black', width=0.5, headwidth=5))\n",
    "    plt.show()"
   ]
  },
  {
   "cell_type": "code",
   "execution_count": 9,
   "id": "86afbe9e",
   "metadata": {},
   "outputs": [
    {
     "data": {
      "image/png": "[encoded data removed]",
      "text/plain": [
       "<Figure size 432x288 with 1 Axes>"
      ]
     },
     "metadata": {
      "needs_background": "light"
     },
     "output_type": "display_data"
    }
   ],
   "source": [
    "policy = np.argmax(q_table,axis=1)\n",
    "\n",
    "plot_policy(policy)"
   ]
  },
  {
   "cell_type": "markdown",
   "id": "a1eb6f89",
   "metadata": {},
   "source": [
    "# Evaluate the agent's performance:"
   ]
  },
  {
   "cell_type": "code",
   "execution_count": 13,
   "id": "1c45936f",
   "metadata": {},
   "outputs": [
    {
     "name": "stdout",
     "output_type": "stream",
     "text": [
      "********* Average reward per 10 thousand episodes *********\n",
      "\n",
      "10000 :  0.02739999999999989\n",
      "20000 :  0.07170000000000103\n",
      "30000 :  0.14959999999999984\n",
      "40000 :  0.2505999999999887\n",
      "50000 :  0.3741999999999751\n",
      "60000 :  0.45829999999996585\n",
      "70000 :  0.5458999999999562\n",
      "80000 :  0.5961999999999507\n",
      "90000 :  0.6272999999999472\n",
      "100000 :  0.6582999999999438\n",
      "110000 :  0.6632999999999433\n",
      "120000 :  0.6759999999999419\n",
      "130000 :  0.6762999999999418\n",
      "140000 :  0.6868999999999407\n",
      "150000 :  0.6948999999999398\n",
      "160000 :  0.6847999999999409\n",
      "170000 :  0.6810999999999413\n",
      "180000 :  0.6876999999999406\n",
      "190000 :  0.6866999999999407\n",
      "200000 :  0.6869999999999407\n"
     ]
    }
   ],
   "source": [
    "rewards_per_thousand_episodes = np.split(np.array(rewards_all_episodes), total_episodes / 10000)\n",
    "count = 10000\n",
    "print(\"********* Average reward per 10 thousand episodes *********\\n\")\n",
    "for r in rewards_per_thousand_episodes:\n",
    "    print(count, \": \", str(sum(r / 10000)))\n",
    "    count += 10000"
   ]
  },
  {
   "cell_type": "markdown",
   "id": "17052b7c",
   "metadata": {},
   "source": [
    "# Test performance "
   ]
  },
  {
   "cell_type": "markdown",
   "id": "a90ef810",
   "metadata": {},
   "source": [
    "Require pygame and opens a new window"
   ]
  },
  {
   "cell_type": "code",
   "execution_count": 11,
   "id": "98e95b93",
   "metadata": {},
   "outputs": [],
   "source": [
    "num_test_episodes = 3\n",
    "env = gym.make(\"FrozenLake-v1\", map_name = \"4x4\", is_slippery=slippery, render_mode=\"human\")\n",
    "for episode in range(num_test_episodes):\n",
    "    state = env.reset()[0]\n",
    "    done = False\n",
    "    for step in range(max_steps):\n",
    "        action = np.argmax(q_table[state, :])\n",
    "        new_state, reward, done, info, prob = env.step(action)\n",
    "        if done:\n",
    "            break\n",
    "\n",
    "        state = new_state\n",
    "\n",
    "env.close()"
   ]
  },
  {
   "cell_type": "markdown",
   "id": "291e0a84",
   "metadata": {},
   "source": [
    "# IRL"
   ]
  },
  {
   "cell_type": "markdown",
   "id": "1ea1922d",
   "metadata": {},
   "source": [
    "Now, given the q-table, we try to recover the reward function "
   ]
  },
  {
   "cell_type": "markdown",
   "id": "eb14aae8",
   "metadata": {},
   "source": [
    "# Maximum margin method "
   ]
  },
  {
   "cell_type": "code",
   "execution_count": 11,
   "id": "0e618e46",
   "metadata": {},
   "outputs": [
    {
     "name": "stderr",
     "output_type": "stream",
     "text": [
      "100%|██████████| 1000/1000 [00:00<00:00, 1646.77it/s]\n"
     ]
    },
    {
     "name": "stdout",
     "output_type": "stream",
     "text": [
      "Reward Function:\n",
      "[0.02249668 0.02249668 0.02249668 0.02249668 0.02249668 0.\n",
      " 0.02249668 0.         0.02249668 0.02249668 0.02249668 0.\n",
      " 0.         0.02249668 0.02249668 0.        ]\n"
     ]
    }
   ],
   "source": [
    "\n",
    "def compute_feature_expectations(env, policy, num_states, num_actions, discount_factor, num_trajectories, trajectory_length):\n",
    "    feature_expectations = np.zeros(num_states)\n",
    "\n",
    "    for _ in range(num_trajectories):\n",
    "        state = env.reset()[0]\n",
    "        for _ in range(trajectory_length):\n",
    "            action = policy[state]\n",
    "            feature_expectations[state] += discount_factor \n",
    "            state, _, done, _, _ = env.step(action)\n",
    "            if done:\n",
    "                break\n",
    "\n",
    "    return feature_expectations / num_trajectories\n",
    "\n",
    "def max_margin_irl(feature_matrix, feature_expectations, num_states, num_actions, discount_factor, num_trajectories, trajectory_length):\n",
    "    c = np.concatenate([np.zeros(num_states), np.ones(num_trajectories)])\n",
    "    A_ub = []\n",
    "    b_ub = []\n",
    "\n",
    "    for trajectory in tqdm(range(num_trajectories)):\n",
    "        state = env.reset()[0]\n",
    "        for t in range(trajectory_length):\n",
    "            action = np.argmax(q_table[state, :])\n",
    "            next_state, _, done, _, _ = env.step(action)\n",
    "            immediate_reward = feature_matrix[state, :] - discount_factor * feature_matrix[next_state, :] \n",
    "            A_ub.append(np.concatenate([-immediate_reward, np.zeros(num_trajectories)]))\n",
    "            A_ub[-1][num_states + trajectory] = -1.0\n",
    "            b_ub.append(0)\n",
    "            state = next_state\n",
    "            if done:\n",
    "                break\n",
    "\n",
    "    A_eq = [np.concatenate([feature_expectations, np.zeros(num_trajectories)])]\n",
    "    b_eq = [1]\n",
    "\n",
    "    bounds = [(0, None) for _ in range(num_states)] + [(None, None) for _ in range(num_trajectories)]\n",
    "\n",
    "    result = linprog(c, A_ub=A_ub, b_ub=b_ub, A_eq=A_eq, b_eq=b_eq, bounds=bounds)\n",
    "\n",
    "    return result.x[:num_states]\n",
    "\n",
    "# Hyperparameters\n",
    "num_states = env.observation_space.n\n",
    "num_actions = env.action_space.n\n",
    "discount_factor = 1\n",
    "num_trajectories = 1000\n",
    "trajectory_length = 100\n",
    "\n",
    "env = gym.make(\"FrozenLake-v1\", map_name = \"4x4\", is_slippery=slippery)\n",
    "feature_matrix = np.eye(num_states)\n",
    "expert_policy = np.argmax(q_table, axis=1)\n",
    "feature_expectations = compute_feature_expectations(env, expert_policy, num_states, num_actions, discount_factor, num_trajectories, trajectory_length)\n",
    "\n",
    "reward_function = max_margin_irl(feature_matrix, feature_expectations, num_states, num_actions, discount_factor, num_trajectories, trajectory_length)\n",
    "\n",
    "print(\"Reward Function:\")\n",
    "print(reward_function)\n"
   ]
  },
  {
   "cell_type": "code",
   "execution_count": 12,
   "id": "545cf907",
   "metadata": {},
   "outputs": [
    {
     "data": {
      "text/plain": [
       "<matplotlib.image.AxesImage at 0x1558bb790>"
      ]
     },
     "execution_count": 12,
     "metadata": {},
     "output_type": "execute_result"
    },
    {
     "data": {
      "image/png": "[encoded data removed]",
      "text/plain": [
       "<Figure size 432x288 with 1 Axes>"
      ]
     },
     "metadata": {
      "needs_background": "light"
     },
     "output_type": "display_data"
    }
   ],
   "source": [
    "plt.imshow(reward_function.reshape(4,4))"
   ]
  },
  {
   "cell_type": "markdown",
   "id": "2efadc23",
   "metadata": {},
   "source": [
    "strange result"
   ]
  },
  {
   "cell_type": "markdown",
   "id": "afb79f57",
   "metadata": {},
   "source": [
    "# Max entropy"
   ]
  },
  {
   "cell_type": "markdown",
   "id": "e1d92d7f",
   "metadata": {},
   "source": [
    "Implementation is a modification of this repo https://github.com/qzed/irl-maxent/tree/master"
   ]
  },
  {
   "cell_type": "code",
   "execution_count": 14,
   "id": "27f3ec14",
   "metadata": {},
   "outputs": [],
   "source": [
    "class Optimizer:\n",
    "    \"\"\"\n",
    "    Optimizer base-class.\n",
    "\n",
    "    Note:\n",
    "        Before use of any optimizer, its `reset` function must be called.\n",
    "\n",
    "    Attributes:\n",
    "        parameters: The parameters to be optimized. This should only be set\n",
    "            via the `reset` method of this optimizer.\n",
    "    \"\"\"\n",
    "    def __init__(self):\n",
    "        self.parameters = None\n",
    "\n",
    "    def reset(self, parameters):\n",
    "        \"\"\"\n",
    "        Reset this optimizer.\n",
    "\n",
    "        Args:\n",
    "            parameters: The parameters to optimize.\n",
    "        \"\"\"\n",
    "        self.parameters = parameters\n",
    "\n",
    "    def step(self, grad, *args, **kwargs):\n",
    "        \"\"\"\n",
    "        Perform a single optimization step.\n",
    "\n",
    "        Args:\n",
    "            grad: The gradient used for the optimization step.\n",
    "\n",
    "            Other arguments are optimizer-specific.\n",
    "        \"\"\"\n",
    "        raise NotImplementedError\n",
    "\n",
    "    def normalize_grad(self, ord=None):\n",
    "        \"\"\"\n",
    "        Create a new wrapper for this optimizer which normalizes the\n",
    "        gradient before each step.\n",
    "\n",
    "        Returns:\n",
    "            An Optimizer instance wrapping this Optimizer, normalizing the\n",
    "            gradient before each step.\n",
    "\n",
    "        See also:\n",
    "            `class NormalizeGrad`\n",
    "        \"\"\"\n",
    "        return NormalizeGrad(self, ord)\n",
    "\n",
    "class ExpSga(Optimizer):\n",
    "    \"\"\"\n",
    "    Exponentiated stochastic gradient ascent.\n",
    "\n",
    "    The implementation follows Algorithm 10.5 from B. Ziebart's thesis\n",
    "    (2010) and is slightly adapted from the original algorithm provided by\n",
    "    Kivinen and Warmuth (1997).\n",
    "\n",
    "    Note:\n",
    "        Before use of any optimizer, its `reset` function must be called.\n",
    "\n",
    "    Args:\n",
    "        lr: The learning-rate. This may either be a float for a constant\n",
    "            learning-rate or a function\n",
    "            `(k: Integer) -> learning_rate: Float`\n",
    "            taking the step number as parameter and returning a learning\n",
    "            rate as result.\n",
    "            See also `linear_decay`, `power_decay` and `exponential_decay`.\n",
    "        normalize: A boolean specifying if the the parameters should be\n",
    "            normalized after each step, as done in the original algorithm by\n",
    "            Kivinen and Warmuth (1997).\n",
    "\n",
    "    Attributes:\n",
    "        parameters: The parameters to be optimized. This should only be set\n",
    "            via the `reset` method of this optimizer.\n",
    "        lr: The learning-rate as specified in the __init__ function.\n",
    "        k: The number of steps run since the last reset.\n",
    "    \"\"\"\n",
    "    def __init__(self, lr, normalize=False):\n",
    "        super().__init__()\n",
    "        self.lr = lr\n",
    "        self.normalize = normalize\n",
    "        self.k = 0\n",
    "\n",
    "    def reset(self, parameters):\n",
    "        \"\"\"\n",
    "        Reset this optimizer.\n",
    "\n",
    "        Args:\n",
    "            parameters: The parameters to optimize.\n",
    "        \"\"\"\n",
    "        super().reset(parameters)\n",
    "        self.k = 0\n",
    "\n",
    "    def step(self, grad, *args, **kwargs):\n",
    "        \"\"\"\n",
    "        Perform a single optimization step.\n",
    "\n",
    "        Args:\n",
    "            grad: The gradient used for the optimization step.\n",
    "        \"\"\"\n",
    "        lr = self.lr if not callable(self.lr) else self.lr(self.k)\n",
    "        self.k += 1\n",
    "\n",
    "        self.parameters *= np.exp(lr * grad)\n",
    "\n",
    "        if self.normalize:\n",
    "            self.parameters /= self.parameters.sum()\n",
    "\n",
    "class Initializer:\n",
    "    \"\"\"\n",
    "    Base-class for an Initializer, specifying a strategy for parameter\n",
    "    initialization.\n",
    "    \"\"\"\n",
    "    def __init__(self):\n",
    "        pass\n",
    "\n",
    "    def initialize(self, shape):\n",
    "        \"\"\"\n",
    "        Create an initial set of parameters.\n",
    "\n",
    "        Args:\n",
    "            shape: The shape of the parameters.\n",
    "\n",
    "        Returns:\n",
    "            An initial set of parameters of the given shape, adhering to the\n",
    "            initialization-strategy described by this Initializer.\n",
    "        \"\"\"\n",
    "        raise NotImplementedError\n",
    "\n",
    "    def __call__(self, shape):\n",
    "        \"\"\"\n",
    "        Create an initial set of parameters.\n",
    "\n",
    "        Note:\n",
    "            This function simply calls `self.initialize(shape)`.\n",
    "\n",
    "        Args:\n",
    "            shape: The shape of the parameters.\n",
    "\n",
    "        Returns:\n",
    "            An initial set of parameters of the given shape, adhering to the\n",
    "            initialization-strategy described by this Initializer.\n",
    "        \"\"\"\n",
    "        return self.initialize(shape)\n",
    "class Constant(Initializer):\n",
    "    \"\"\"\n",
    "    An Initializer, initializing parameters to a constant value.\n",
    "\n",
    "    Args:\n",
    "        value: Either a scalar value or a function in dependence on the\n",
    "            shape of the parameters, returning a scalar value for\n",
    "            initialization.\n",
    "    \"\"\"\n",
    "    def __init__(self, value=1.0):\n",
    "        super().__init__()\n",
    "        self.value = value\n",
    "\n",
    "    def initialize(self, shape):\n",
    "        \"\"\"\n",
    "        Create set of parameters with initial fixed value.\n",
    "\n",
    "        The scalar value used for initialization can be specified in the\n",
    "        constructor.\n",
    "\n",
    "        Args:\n",
    "            shape: The shape of the parameters.\n",
    "\n",
    "        Returns:\n",
    "            An set of constant-valued parameters of the given shape.\n",
    "        \"\"\"\n",
    "        if callable(self.value):\n",
    "            return np.ones(shape) * self.value(shape)\n",
    "        else:\n",
    "            return np.ones(shape) * self.value\n",
    "\n",
    "def linear_decay(lr0=0.2, decay_rate=1.0, decay_steps=1):\n",
    "    \"\"\"\n",
    "    Linear learning-rate decay.\n",
    "\n",
    "    Creates a function `(k: Integer) -> learning_rate: Float` returning the\n",
    "    learning-rate in dependence on the current number of iterations. The\n",
    "    returned function can be expressed as\n",
    "\n",
    "        learning_rate(k) = lr0 / (1.0 + decay_rate * floor(k / decay_steps))\n",
    "\n",
    "    Args:\n",
    "        lr0: The initial learning-rate.\n",
    "        decay_rate: The decay factor.\n",
    "        decay_steps: An integer number of steps that can be used to\n",
    "            staircase the learning-rate.\n",
    "\n",
    "    Returns:\n",
    "        The function giving the current learning-rate in dependence of the\n",
    "        current iteration as specified above.\n",
    "    \"\"\"\n",
    "    def _lr(k):\n",
    "        return lr0 / (1.0 + decay_rate * np.floor(k / decay_steps))\n",
    "\n",
    "    return _lr\n",
    "\n",
    "def create_expert_trajectory(env, policy, n_trajectories):\n",
    "    env.reset()\n",
    "    trajectories = []\n",
    "    expert_trajectory = []\n",
    "    done = False\n",
    "    for i in range(n_trajectories):\n",
    "        while not done:\n",
    "            action = policy[env.s]\n",
    "            state, reward, done, info, prob = env.step(action)\n",
    "            expert_trajectory.append([state, action])\n",
    "        env.reset()\n",
    "        trajectories.append(expert_trajectory)\n",
    "        expert_trajectory = []\n",
    "        done = False\n",
    "    return trajectories\n",
    "\n",
    "\n",
    "\n",
    "def feature_expectation_from_trajectories(features, trajectories):\n",
    "    n_states, n_features = features.shape\n",
    "\n",
    "    fe = np.zeros(n_features)\n",
    "\n",
    "    for t in trajectories:\n",
    "        states = [k[0] for k in t]# for each trajectory\n",
    "        for s in states:                # for each state in trajectory\n",
    "            fe += features[s, :]            # sum-up features\n",
    "\n",
    "    return fe / len(trajectories)           # average over trajectories\n",
    "\n",
    "def transition_matrix(env):\n",
    "    transition_matrix = np.zeros((env.observation_space.n, env.observation_space.n, env.action_space.n))\n",
    "    for i in range(env.observation_space.n):\n",
    "        for j in range(env.action_space.n):\n",
    "            for prob, next_state, reward, done in env.P[i][j]:\n",
    "                transition_matrix[i][next_state][j] += prob\n",
    "    return transition_matrix\n",
    "\n",
    "def compute_expected_svf(p_transition, p_initial, terminal, reward, eps=1e-6):\n",
    "    n_states, _, n_actions = p_transition.shape\n",
    "    \n",
    "    nonterminal = set(range(n_states)) - set(terminal)  # nonterminal states\n",
    "    \n",
    "    # Backward Pass\n",
    "    # 1. initialize at terminal states\n",
    "    zs = np.zeros(n_states, dtype=np.float32)                            # zs: state partition function\n",
    "    zs[terminal] = 1.0\n",
    "\n",
    "    # 2. perform backward pass\n",
    "    for _ in range(2 * n_states):                       # longest trajectory: n_states\n",
    "        # reset action values to zero\n",
    "        za = np.zeros((n_states, n_actions), dtype=np.float32)            # za: action partition function\n",
    "\n",
    "        # for each state-action pair\n",
    "        for s_from, a in product(range(n_states), range(n_actions)):\n",
    "\n",
    "            # sum over s_to\n",
    "            for s_to in range(n_states):\n",
    "                za[s_from, a] += p_transition[s_from, s_to, a] * np.exp(reward[s_from]) * zs[s_to]\n",
    "                \n",
    "        # sum over all actions\n",
    "        \n",
    "        zs = za.sum(axis=1)\n",
    "        \n",
    "        \n",
    "\n",
    "    # 3. compute local action probabilities\n",
    "    \n",
    "    p_action = za / zs[:, None]\n",
    "    \n",
    "    # Forward Pass\n",
    "    # 4. initialize with starting probability\n",
    "    d = np.zeros((n_states, 2 * n_states))              # d: state-visitation frequencies\n",
    "    d[:, 0] = p_initial\n",
    "\n",
    "    # 5. iterate for N steps\n",
    "    for t in range(1, 2 * n_states):                    # longest trajectory: n_states\n",
    "        \n",
    "        # for all states\n",
    "        for s_to in range(n_states):\n",
    "            \n",
    "            # sum over nonterminal state-action pairs\n",
    "            for s_from, a in product(nonterminal, range(n_actions)):\n",
    "                d[s_to, t] += d[s_from, t-1] * p_action[s_from, a] * p_transition[s_from, s_to, a]\n",
    "\n",
    "    # 6. sum-up frequencies\n",
    "    return d.sum(axis=1)\n",
    "\n",
    "def maxent_irl(p_transition, features, terminal, trajectories, optim, init, eps=1e-4):\n",
    "    n_states, _, n_actions = p_transition.shape\n",
    "    _, n_features = features.shape\n",
    "\n",
    "    # compute feature expectation from trajectories\n",
    "    e_features = feature_expectation_from_trajectories(features, trajectories)\n",
    "    \n",
    "    # compute starting-state probabilities from trajectories\n",
    "    p_initial = np.zeros(n_states)\n",
    "    p_initial[0] = 1\n",
    "    \n",
    "\n",
    "    # gradient descent optimization\n",
    "    omega = init(n_features)        # initialize our parameters\n",
    "    delta = np.inf                  # initialize delta for convergence check\n",
    "\n",
    "    optim.reset(omega)              # re-start optimizer\n",
    "    while delta > eps:              # iterate until convergence\n",
    "        \n",
    "        omega_old = omega.copy()\n",
    "\n",
    "        # compute per-state reward from features\n",
    "        reward = features.dot(omega)\n",
    "        \n",
    "        reward = reward/reward.max()\n",
    "        \n",
    "        # compute gradient of the log-likelihood\n",
    "        e_svf = compute_expected_svf(p_transition, p_initial, terminal, reward)\n",
    "        grad = e_features - features.T.dot(e_svf)\n",
    "\n",
    "        # perform optimization step and compute delta for convergence\n",
    "        optim.step(grad)\n",
    "        \n",
    "        # re-compute detla for convergence check\n",
    "        delta = np.max(np.abs(omega_old - omega))\n",
    "\n",
    "    # re-compute per-state reward and return\n",
    "    return features.dot(omega)\n",
    "\n",
    "policy = np.argmax(q_table, axis=1)\n",
    "n_trajectories = 1000\n",
    "trajectories = create_expert_trajectory(env, policy, n_trajectories)\n",
    "\n",
    "# set up features: we use one feature vector per state\n",
    "features = np.identity(env.observation_space.n)\n",
    "\n",
    "# choose our parameter initialization strategy:\n",
    "#   initialize parameters with constant\n",
    "init = Constant(1.0)\n",
    "\n",
    "# choose our optimization strategy:\n",
    "#   we select exponentiated stochastic gradient descent with linear learning-rate decay\n",
    "optim = ExpSga(lr=linear_decay(lr0=0.01))\n",
    "transition_matrix_env = transition_matrix(env)\n",
    "\n",
    "\n",
    "# actually do some inverse reinforcement learning\n",
    "reward_maxent = maxent_irl(transition_matrix_env, features, [5,7,11,12,15], trajectories, optim, init)"
   ]
  },
  {
   "cell_type": "code",
   "execution_count": 15,
   "id": "85a7c7cd",
   "metadata": {},
   "outputs": [
    {
     "data": {
      "text/plain": [
       "<matplotlib.image.AxesImage at 0x1559cfad0>"
      ]
     },
     "execution_count": 15,
     "metadata": {},
     "output_type": "execute_result"
    },
    {
     "data": {
      "image/png": "[encoded data removed]",
      "text/plain": [
       "<Figure size 432x288 with 1 Axes>"
      ]
     },
     "metadata": {
      "needs_background": "light"
     },
     "output_type": "display_data"
    }
   ],
   "source": [
    "plt.imshow(reward_maxent.reshape(4,4))"
   ]
  },
  {
   "cell_type": "code",
   "execution_count": null,
   "id": "09fe8a89",
   "metadata": {},
   "outputs": [],
   "source": [
    "total_episodes = 200000\n",
    "learning_rate = 0.01\n",
    "max_steps = 100\n",
    "gamma = 0.99\n",
    "exploration_rate = 1\n",
    "max_exploration_rate = 1\n",
    "min_exploration_rate = 0.01\n",
    "exploration_decay_rate = 0.00005\n",
    "# Define Q-learning parameters\n",
    "\n",
    "max_steps = 100\n",
    "alpha = 0.8\n",
    "\n",
    "epsilon = 1.0\n",
    "max_epsilon = 1.0\n",
    "min_epsilon = 0.01\n",
    "decay_rate = 0.01\n"
   ]
  },
  {
   "cell_type": "code",
   "execution_count": 18,
   "id": "aa0cacc0",
   "metadata": {},
   "outputs": [
    {
     "name": "stderr",
     "output_type": "stream",
     "text": [
      "100%|██████████| 100000/100000 [01:08<00:00, 1458.34it/s]\n"
     ]
    }
   ],
   "source": [
    "\n",
    "# Create environment\n",
    "env = gym.make('FrozenLake-v1', map_name=\"4x4\", is_slippery=slippery)\n",
    "\n",
    "# Initialize Q-table to zeros\n",
    "new_q_table = np.zeros((env.observation_space.n, env.action_space.n))\n",
    "rewards_all_episodes = []\n",
    "\n",
    "for episode in tqdm(range(total_episodes)):\n",
    "    state = env.reset()[0]\n",
    "    done = False\n",
    "    rewards_current_episode = 0\n",
    "\n",
    "    for step in range(max_steps):\n",
    "        exploration_threshold = random.uniform(0, 1)\n",
    "        if exploration_threshold > exploration_rate:\n",
    "            action = np.argmax(new_q_table[state, :])\n",
    "        else:\n",
    "            action = env.action_space.sample()\n",
    "        new_state, _, done, info, prob = env.step(action)\n",
    "        reward = reward_maxent[new_state]\n",
    "        new_q_table[state, action] = new_q_table[state, action] * (1 - learning_rate) + \\\n",
    "            learning_rate * (reward + gamma * np.max(new_q_table[new_state, :]))\n",
    "        state = new_state\n",
    "        rewards_current_episode += reward\n",
    "        if done:\n",
    "            break\n",
    "    exploration_rate = min_exploration_rate + \\\n",
    "        (max_exploration_rate - min_exploration_rate) * np.exp(-exploration_decay_rate * episode)\n",
    "    rewards_all_episodes.append(rewards_current_episode)\n"
   ]
  },
  {
   "cell_type": "code",
   "execution_count": 19,
   "id": "e48680a2",
   "metadata": {},
   "outputs": [
    {
     "name": "stdout",
     "output_type": "stream",
     "text": [
      "[0 3 3 3 0 0 2 0 3 1 0 0 0 2 1 0]\n"
     ]
    },
    {
     "data": {
      "image/png": "[encoded data removed]",
      "text/plain": [
       "<Figure size 432x288 with 1 Axes>"
      ]
     },
     "metadata": {
      "needs_background": "light"
     },
     "output_type": "display_data"
    }
   ],
   "source": [
    "expert_policy = np.argmax(q_table,axis=1)\n",
    "print(expert_policy)\n",
    "plot_policy(policy)"
   ]
  },
  {
   "cell_type": "code",
   "execution_count": 20,
   "id": "28dcbe5b",
   "metadata": {},
   "outputs": [
    {
     "name": "stdout",
     "output_type": "stream",
     "text": [
      "[3 3 3 3 0 0 2 0 3 1 0 0 0 2 0 0]\n"
     ]
    },
    {
     "data": {
      "image/png": "[encoded data removed]",
      "text/plain": [
       "<Figure size 432x288 with 1 Axes>"
      ]
     },
     "metadata": {
      "needs_background": "light"
     },
     "output_type": "display_data"
    }
   ],
   "source": [
    "learned_policy = np.argmax(new_q_table,axis=1)\n",
    "print(learned_policy)\n",
    "plot_policy(learned_policy)"
   ]
  },
  {
   "cell_type": "markdown",
   "id": "3562258b",
   "metadata": {},
   "source": [
    "Observation: the agent will never reach the goal! that's because he is maximixing the reward of staying in the first cell"
   ]
  },
  {
   "cell_type": "markdown",
   "id": "8d8c5ff8",
   "metadata": {},
   "source": [
    "# Negative Max entropy"
   ]
  },
  {
   "cell_type": "markdown",
   "id": "cc405cf3",
   "metadata": {},
   "source": [
    "Here we add the negative examples: the agent should not do long walks "
   ]
  },
  {
   "cell_type": "code",
   "execution_count": 21,
   "id": "990c0e89",
   "metadata": {},
   "outputs": [],
   "source": [
    "class Optimizer:\n",
    "    \"\"\"\n",
    "    Optimizer base-class.\n",
    "\n",
    "    Note:\n",
    "        Before use of any optimizer, its `reset` function must be called.\n",
    "\n",
    "    Attributes:\n",
    "        parameters: The parameters to be optimized. This should only be set\n",
    "            via the `reset` method of this optimizer.\n",
    "    \"\"\"\n",
    "    def __init__(self):\n",
    "        self.parameters = None\n",
    "\n",
    "    def reset(self, parameters):\n",
    "        \"\"\"\n",
    "        Reset this optimizer.\n",
    "\n",
    "        Args:\n",
    "            parameters: The parameters to optimize.\n",
    "        \"\"\"\n",
    "        self.parameters = parameters\n",
    "\n",
    "    def step(self, grad, *args, **kwargs):\n",
    "        \"\"\"\n",
    "        Perform a single optimization step.\n",
    "\n",
    "        Args:\n",
    "            grad: The gradient used for the optimization step.\n",
    "\n",
    "            Other arguments are optimizer-specific.\n",
    "        \"\"\"\n",
    "        raise NotImplementedError\n",
    "\n",
    "    def normalize_grad(self, ord=None):\n",
    "        \"\"\"\n",
    "        Create a new wrapper for this optimizer which normalizes the\n",
    "        gradient before each step.\n",
    "\n",
    "        Returns:\n",
    "            An Optimizer instance wrapping this Optimizer, normalizing the\n",
    "            gradient before each step.\n",
    "\n",
    "        See also:\n",
    "            `class NormalizeGrad`\n",
    "        \"\"\"\n",
    "        return NormalizeGrad(self, ord)\n",
    "\n",
    "class ExpSga(Optimizer):\n",
    "    \"\"\"\n",
    "    Exponentiated stochastic gradient ascent.\n",
    "\n",
    "    The implementation follows Algorithm 10.5 from B. Ziebart's thesis\n",
    "    (2010) and is slightly adapted from the original algorithm provided by\n",
    "    Kivinen and Warmuth (1997).\n",
    "\n",
    "    Note:\n",
    "        Before use of any optimizer, its `reset` function must be called.\n",
    "\n",
    "    Args:\n",
    "        lr: The learning-rate. This may either be a float for a constant\n",
    "            learning-rate or a function\n",
    "            `(k: Integer) -> learning_rate: Float`\n",
    "            taking the step number as parameter and returning a learning\n",
    "            rate as result.\n",
    "            See also `linear_decay`, `power_decay` and `exponential_decay`.\n",
    "        normalize: A boolean specifying if the the parameters should be\n",
    "            normalized after each step, as done in the original algorithm by\n",
    "            Kivinen and Warmuth (1997).\n",
    "\n",
    "    Attributes:\n",
    "        parameters: The parameters to be optimized. This should only be set\n",
    "            via the `reset` method of this optimizer.\n",
    "        lr: The learning-rate as specified in the __init__ function.\n",
    "        k: The number of steps run since the last reset.\n",
    "    \"\"\"\n",
    "    def __init__(self, lr, normalize=False):\n",
    "        super().__init__()\n",
    "        self.lr = lr\n",
    "        self.normalize = normalize\n",
    "        self.k = 0\n",
    "\n",
    "    def reset(self, parameters):\n",
    "        \"\"\"\n",
    "        Reset this optimizer.\n",
    "\n",
    "        Args:\n",
    "            parameters: The parameters to optimize.\n",
    "        \"\"\"\n",
    "        super().reset(parameters)\n",
    "        self.k = 0\n",
    "\n",
    "    def step(self, grad, *args, **kwargs):\n",
    "        \"\"\"\n",
    "        Perform a single optimization step.\n",
    "\n",
    "        Args:\n",
    "            grad: The gradient used for the optimization step.\n",
    "        \"\"\"\n",
    "        lr = self.lr if not callable(self.lr) else self.lr(self.k)\n",
    "        self.k += 1\n",
    "\n",
    "        self.parameters *= np.exp(lr * grad)\n",
    "\n",
    "        if self.normalize:\n",
    "            self.parameters /= self.parameters.sum()\n",
    "\n",
    "class Initializer:\n",
    "    \"\"\"\n",
    "    Base-class for an Initializer, specifying a strategy for parameter\n",
    "    initialization.\n",
    "    \"\"\"\n",
    "    def __init__(self):\n",
    "        pass\n",
    "\n",
    "    def initialize(self, shape):\n",
    "        \"\"\"\n",
    "        Create an initial set of parameters.\n",
    "\n",
    "        Args:\n",
    "            shape: The shape of the parameters.\n",
    "\n",
    "        Returns:\n",
    "            An initial set of parameters of the given shape, adhering to the\n",
    "            initialization-strategy described by this Initializer.\n",
    "        \"\"\"\n",
    "        raise NotImplementedError\n",
    "\n",
    "    def __call__(self, shape):\n",
    "        \"\"\"\n",
    "        Create an initial set of parameters.\n",
    "\n",
    "        Note:\n",
    "            This function simply calls `self.initialize(shape)`.\n",
    "\n",
    "        Args:\n",
    "            shape: The shape of the parameters.\n",
    "\n",
    "        Returns:\n",
    "            An initial set of parameters of the given shape, adhering to the\n",
    "            initialization-strategy described by this Initializer.\n",
    "        \"\"\"\n",
    "        return self.initialize(shape)\n",
    "class Constant(Initializer):\n",
    "    \"\"\"\n",
    "    An Initializer, initializing parameters to a constant value.\n",
    "\n",
    "    Args:\n",
    "        value: Either a scalar value or a function in dependence on the\n",
    "            shape of the parameters, returning a scalar value for\n",
    "            initialization.\n",
    "    \"\"\"\n",
    "    def __init__(self, value=1.0):\n",
    "        super().__init__()\n",
    "        self.value = value\n",
    "\n",
    "    def initialize(self, shape):\n",
    "        \"\"\"\n",
    "        Create set of parameters with initial fixed value.\n",
    "\n",
    "        The scalar value used for initialization can be specified in the\n",
    "        constructor.\n",
    "\n",
    "        Args:\n",
    "            shape: The shape of the parameters.\n",
    "\n",
    "        Returns:\n",
    "            An set of constant-valued parameters of the given shape.\n",
    "        \"\"\"\n",
    "        if callable(self.value):\n",
    "            return np.ones(shape) * self.value(shape)\n",
    "        else:\n",
    "            return np.ones(shape) * self.value\n",
    "\n",
    "def linear_decay(lr0=0.2, decay_rate=1.0, decay_steps=1):\n",
    "    \"\"\"\n",
    "    Linear learning-rate decay.\n",
    "\n",
    "    Creates a function `(k: Integer) -> learning_rate: Float` returning the\n",
    "    learning-rate in dependence on the current number of iterations. The\n",
    "    returned function can be expressed as\n",
    "\n",
    "        learning_rate(k) = lr0 / (1.0 + decay_rate * floor(k / decay_steps))\n",
    "\n",
    "    Args:\n",
    "        lr0: The initial learning-rate.\n",
    "        decay_rate: The decay factor.\n",
    "        decay_steps: An integer number of steps that can be used to\n",
    "            staircase the learning-rate.\n",
    "\n",
    "    Returns:\n",
    "        The function giving the current learning-rate in dependence of the\n",
    "        current iteration as specified above.\n",
    "    \"\"\"\n",
    "    def _lr(k):\n",
    "        return lr0 / (1.0 + decay_rate * np.floor(k / decay_steps))\n",
    "\n",
    "    return _lr\n",
    "\n",
    "def create_expert_trajectory(env, policy, n_trajectories):\n",
    "    env.reset()\n",
    "    trajectories = []\n",
    "    expert_trajectory = []\n",
    "    done = False\n",
    "    for i in range(n_trajectories):\n",
    "        while not done:\n",
    "            action = policy[env.s]\n",
    "            state, reward, done, info, prob = env.step(action)\n",
    "            expert_trajectory.append([state, action])\n",
    "        env.reset()\n",
    "        if state == 15:\n",
    "            trajectories.append(expert_trajectory)\n",
    "        expert_trajectory = []\n",
    "        done = False\n",
    "    return trajectories\n",
    "\n",
    "def create_negative_trajectory(env, policy, n_trajectories):\n",
    "    env.reset()\n",
    "    trajectories = []\n",
    "    expert_trajectory = []\n",
    "    done = False\n",
    "    step = 0\n",
    "    for i in range(n_trajectories):\n",
    "        while not done:\n",
    "            step += 1\n",
    "            action = policy[env.s]\n",
    "            state, reward, done, info, prob = env.step(action)\n",
    "            expert_trajectory.append([state, action])\n",
    "            if step > 100:\n",
    "                done = True\n",
    "        step = 0\n",
    "        env.reset()\n",
    "        if state != 15:\n",
    "            trajectories.append(expert_trajectory)\n",
    "        expert_trajectory = []\n",
    "        done = False\n",
    "    return trajectories\n",
    "\n",
    "\n",
    "\n",
    "\n",
    "def feature_expectation_from_trajectories(features, trajectories):\n",
    "    n_states, n_features = features.shape\n",
    "\n",
    "    fe = np.zeros(n_features)\n",
    "\n",
    "    for t in trajectories:\n",
    "        states = [k[0] for k in t]# for each trajectory\n",
    "        for s in states:                # for each state in trajectory\n",
    "            fe += features[s, :]            # sum-up features\n",
    "\n",
    "    return fe / len(trajectories)           # average over trajectories\n",
    "\n",
    "def transition_matrix(env):\n",
    "    transition_matrix = np.zeros((env.observation_space.n, env.observation_space.n, env.action_space.n))\n",
    "    for i in range(env.observation_space.n):\n",
    "        for j in range(env.action_space.n):\n",
    "            for prob, next_state, reward, done in env.P[i][j]:\n",
    "                transition_matrix[i][next_state][j] += prob\n",
    "    return transition_matrix\n",
    "\n",
    "def compute_expected_svf(p_transition, p_initial, terminal, reward, eps=1e-6):\n",
    "    n_states, _, n_actions = p_transition.shape\n",
    "    \n",
    "    nonterminal = set(range(n_states)) - set(terminal)  # nonterminal states\n",
    "    \n",
    "    # Backward Pass\n",
    "    # 1. initialize at terminal states\n",
    "    zs = np.zeros(n_states, dtype=np.float32)                            # zs: state partition function\n",
    "    zs[terminal] = 1.0\n",
    "\n",
    "    # 2. perform backward pass\n",
    "    for _ in range(2 * n_states):                       # longest trajectory: n_states\n",
    "        # reset action values to zero\n",
    "        za = np.zeros((n_states, n_actions), dtype=np.float32)            # za: action partition function\n",
    "\n",
    "        # for each state-action pair\n",
    "        for s_from, a in product(range(n_states), range(n_actions)):\n",
    "\n",
    "            # sum over s_to\n",
    "            for s_to in range(n_states):\n",
    "                za[s_from, a] += p_transition[s_from, s_to, a] * np.exp(reward[s_from]) * zs[s_to]\n",
    "                \n",
    "        # sum over all actions\n",
    "        \n",
    "        zs = za.sum(axis=1)\n",
    "        \n",
    "        \n",
    "\n",
    "    # 3. compute local action probabilities\n",
    "    \n",
    "    p_action = za / zs[:, None]\n",
    "    \n",
    "    # Forward Pass\n",
    "    # 4. initialize with starting probability\n",
    "    d = np.zeros((n_states, 2 * n_states))              # d: state-visitation frequencies\n",
    "    d[:, 0] = p_initial\n",
    "\n",
    "    # 5. iterate for N steps\n",
    "    for t in range(1, 2 * n_states):                    # longest trajectory: n_states\n",
    "        \n",
    "        # for all states\n",
    "        for s_to in range(n_states):\n",
    "            \n",
    "            # sum over nonterminal state-action pairs\n",
    "            for s_from, a in product(nonterminal, range(n_actions)):\n",
    "                d[s_to, t] += d[s_from, t-1] * p_action[s_from, a] * p_transition[s_from, s_to, a]\n",
    "\n",
    "    # 6. sum-up frequencies\n",
    "    return d.sum(axis=1)\n",
    "\n",
    "def maxent_irl(p_transition, features, terminal, trajectories, negative_trajectories, optim, init, eps=1e-4):\n",
    "    n_states, _, n_actions = p_transition.shape\n",
    "    _, n_features = features.shape\n",
    "\n",
    "    # compute feature expectation from trajectories\n",
    "    e_features = feature_expectation_from_trajectories(features, trajectories)\n",
    "    \n",
    "    # compute feature expectation from negative trajectories\n",
    "    e_features_negative = feature_expectation_from_trajectories(features, negative_trajectories)\n",
    "\n",
    "    # compute starting-state probabilities from trajectories\n",
    "    p_initial = np.zeros(n_states)\n",
    "    p_initial[0] = 1\n",
    "    \n",
    "    # gradient descent optimization\n",
    "    omega = init(n_features)        # initialize our parameters\n",
    "    delta = np.inf                  # initialize delta for convergence check\n",
    "\n",
    "    optim.reset(omega)              # re-start optimizer\n",
    "    while delta > eps:              # iterate until convergence\n",
    "        omega_old = omega.copy()\n",
    "\n",
    "        # compute per-state reward from features\n",
    "        reward = features.dot(omega)\n",
    "        \n",
    "        reward = reward/reward.max()\n",
    "        \n",
    "        # compute gradient of the log-likelihood\n",
    "        e_svf = compute_expected_svf(p_transition, p_initial, terminal, reward)\n",
    "        e_svf_negative = compute_expected_svf(p_transition, p_initial, terminal, -reward)\n",
    "        \n",
    "        # calculate the difference between the feature expectations of positive and negative examples\n",
    "        grad = e_features - features.T.dot(e_svf)+ lambda_par*( -e_features_negative +features.T.dot(e_svf_negative))\n",
    "\n",
    "        # perform optimization step and compute delta for convergence\n",
    "        optim.step(grad)\n",
    "        \n",
    "        # re-compute detla for convergence check\n",
    "        delta = np.max(np.abs(omega_old - omega))\n",
    "\n",
    "    # re-compute per-state reward and return\n",
    "    return features.dot(omega)\n"
   ]
  },
  {
   "cell_type": "code",
   "execution_count": 22,
   "id": "28f651da",
   "metadata": {},
   "outputs": [],
   "source": [
    "policy = np.argmax(q_table, axis=1)\n",
    "n_trajectories = 1000\n",
    "trajectories = create_expert_trajectory(env, policy, n_trajectories)\n",
    "negative_trajectories = create_negative_trajectory(env, policy, n_trajectories)\n",
    "lambda_par = 0.5 #weight for the negative examples\n",
    "\n",
    "features = np.identity(env.observation_space.n)\n",
    "\n",
    "init = Constant(1.0)\n",
    "optim = ExpSga(lr=linear_decay(lr0=0.01))\n",
    "transition_matrix_env = transition_matrix(env)\n",
    "\n",
    "reward_maxent_negative = maxent_irl(transition_matrix_env, features, [5,7,11,12,15], trajectories,negative_trajectories, optim, init)"
   ]
  },
  {
   "cell_type": "code",
   "execution_count": 24,
   "id": "c223f55b",
   "metadata": {},
   "outputs": [
    {
     "data": {
      "text/plain": [
       "array([5.71307914, 0.68942139, 0.88151892, 0.9010536 , 5.19077015,\n",
       "       0.80361872, 0.80945834, 0.79866861, 4.32328585, 2.90587192,\n",
       "       1.31960948, 0.99170171, 0.95419215, 4.3937155 , 4.40124649,\n",
       "       1.86971842])"
      ]
     },
     "execution_count": 24,
     "metadata": {},
     "output_type": "execute_result"
    }
   ],
   "source": [
    "reward_maxent_negative**10 #we polarize the reward "
   ]
  },
  {
   "cell_type": "code",
   "execution_count": 49,
   "id": "155d06c0",
   "metadata": {},
   "outputs": [
    {
     "data": {
      "text/plain": [
       "<matplotlib.image.AxesImage at 0x155ba7f50>"
      ]
     },
     "execution_count": 49,
     "metadata": {},
     "output_type": "execute_result"
    },
    {
     "data": {
      "image/png": "[encoded data removed]",
      "text/plain": [
       "<Figure size 432x288 with 1 Axes>"
      ]
     },
     "metadata": {
      "needs_background": "light"
     },
     "output_type": "display_data"
    }
   ],
   "source": [
    "plt.imshow((reward_maxent_negative**10\n",
    "           ).reshape(4,4))"
   ]
  },
  {
   "cell_type": "code",
   "execution_count": 28,
   "id": "130529d7",
   "metadata": {},
   "outputs": [],
   "source": [
    "total_episodes = 100000\n",
    "learning_rate = 0.01\n",
    "max_steps = 100\n",
    "gamma = 0.99\n",
    "exploration_rate = 1\n",
    "max_exploration_rate = 1\n",
    "min_exploration_rate = 0.01\n",
    "exploration_decay_rate = 0.00005\n",
    "\n",
    "alpha = 0.8\n",
    "\n",
    "epsilon = 1.0\n",
    "max_epsilon = 1.0\n",
    "min_epsilon = 0.01\n",
    "decay_rate = 0.01"
   ]
  },
  {
   "cell_type": "code",
   "execution_count": 29,
   "id": "5cd9649a",
   "metadata": {},
   "outputs": [
    {
     "name": "stderr",
     "output_type": "stream",
     "text": [
      "100%|██████████| 100000/100000 [01:00<00:00, 1659.38it/s]\n"
     ]
    }
   ],
   "source": [
    "env = gym.make('FrozenLake-v1', map_name=\"4x4\", is_slippery=slippery)\n",
    "\n",
    "new_q_table_neg = np.zeros((env.observation_space.n, env.action_space.n))\n",
    "rewards_all_episodes = []\n",
    "\n",
    "for episode in tqdm(range(total_episodes)):\n",
    "    state = env.reset()[0]\n",
    "    done = False\n",
    "    rewards_current_episode = 0\n",
    "\n",
    "    for step in range(max_steps):\n",
    "        exploration_threshold = random.uniform(0, 1)\n",
    "        if exploration_threshold > exploration_rate:\n",
    "            action = np.argmax(new_q_table_neg[state, :])\n",
    "        else:\n",
    "            action = env.action_space.sample()\n",
    "        new_state, _, done, info, prob = env.step(action)\n",
    "        reward = (reward_maxent_negative**10)[new_state]\n",
    "        new_q_table_neg[state, action] = new_q_table_neg[state, action] * (1 - learning_rate) + \\\n",
    "            learning_rate * (reward + gamma * np.max(new_q_table_neg[new_state, :]))\n",
    "        state = new_state\n",
    "        rewards_current_episode += reward\n",
    "        if done:\n",
    "            break\n",
    "    exploration_rate = min_exploration_rate + \\\n",
    "        (max_exploration_rate - min_exploration_rate) * np.exp(-exploration_decay_rate * episode)\n",
    "    rewards_all_episodes.append(rewards_current_episode)\n",
    "\n"
   ]
  },
  {
   "cell_type": "code",
   "execution_count": 30,
   "id": "b769c15d",
   "metadata": {},
   "outputs": [
    {
     "name": "stdout",
     "output_type": "stream",
     "text": [
      "[0 3 3 3 0 0 2 0 3 1 0 0 0 2 1 0]\n"
     ]
    },
    {
     "data": {
      "image/png": "[encoded data removed]",
      "text/plain": [
       "<Figure size 432x288 with 1 Axes>"
      ]
     },
     "metadata": {
      "needs_background": "light"
     },
     "output_type": "display_data"
    }
   ],
   "source": [
    "expert_policy = np.argmax(q_table,axis=1)\n",
    "print(expert_policy)\n",
    "plot_policy(policy)"
   ]
  },
  {
   "cell_type": "code",
   "execution_count": 31,
   "id": "117e5c02",
   "metadata": {},
   "outputs": [
    {
     "name": "stdout",
     "output_type": "stream",
     "text": [
      "[0 3 3 3 0 0 0 0 3 1 0 0 0 2 0 0]\n"
     ]
    },
    {
     "data": {
      "image/png": "[encoded data removed]",
      "text/plain": [
       "<Figure size 432x288 with 1 Axes>"
      ]
     },
     "metadata": {
      "needs_background": "light"
     },
     "output_type": "display_data"
    }
   ],
   "source": [
    "learned_policy_neg = np.argmax(new_q_table_neg,axis=1)\n",
    "print(learned_policy_neg)\n",
    "plot_policy(learned_policy_neg)"
   ]
  },
  {
   "cell_type": "code",
   "execution_count": 32,
   "id": "e1486fdb",
   "metadata": {},
   "outputs": [
    {
     "name": "stdout",
     "output_type": "stream",
     "text": [
      "Expert success rate:  0.857\n",
      "New agent success rate:  0.879\n"
     ]
    }
   ],
   "source": [
    "class QLearningAgent:\n",
    "    def __init__(self, q_table):\n",
    "        self.q_table = q_table\n",
    "\n",
    "    def choose_action(self, state):\n",
    "        return np.argmax(self.q_table[state, :])\n",
    "\n",
    "expert_agent = QLearningAgent(q_table)\n",
    "new_agent = QLearningAgent(new_q_table_neg)\n",
    "\n",
    "def evaluate_agent(env, agent, episodes=1000):\n",
    "    success = 0\n",
    "    for _ in range(episodes):\n",
    "        state = env.reset()[0]\n",
    "        done = False\n",
    "        while not done:\n",
    "            action = agent.choose_action(state)\n",
    "            next_state, _, done, _, _ = env.step(action)\n",
    "            state = next_state\n",
    "            if env.unwrapped.s == 14:  \n",
    "                success += 1\n",
    "                done = True\n",
    "    return success / episodes\n",
    "env = gym.make('FrozenLake-v1', map_name=\"4x4\", is_slippery=slippery)\n",
    "\n",
    "expert_success_rate = evaluate_agent(env, expert_agent)\n",
    "new_agent_success_rate = evaluate_agent(env, new_agent)\n",
    "\n",
    "print(\"Expert success rate: \", expert_success_rate)\n",
    "print(\"New agent success rate: \", new_agent_success_rate)"
   ]
  },
  {
   "cell_type": "markdown",
   "id": "823c3196",
   "metadata": {},
   "source": [
    "We agent is still not reaching the goal, but it's reaching the tile before the goal"
   ]
  }
 ],
 "metadata": {
  "kernelspec": {
   "display_name": "IRL",
   "language": "python",
   "name": "irl"
  },
  "language_info": {
   "codemirror_mode": {
    "name": "ipython",
    "version": 3
   },
   "file_extension": ".py",
   "mimetype": "text/x-python",
   "name": "python",
   "nbconvert_exporter": "python",
   "pygments_lexer": "ipython3",
   "version": "3.11.3"
  }
 },
 "nbformat": 4,
 "nbformat_minor": 5
}
